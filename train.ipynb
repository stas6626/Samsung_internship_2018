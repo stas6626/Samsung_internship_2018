{
 "cells": [
  {
   "cell_type": "code",
   "execution_count": 1,
   "metadata": {},
   "outputs": [
    {
     "name": "stderr",
     "output_type": "stream",
     "text": [
      "/media/stas/fastdata/anaconda3/lib/python3.6/site-packages/h5py/__init__.py:34: FutureWarning: Conversion of the second argument of issubdtype from `float` to `np.floating` is deprecated. In future, it will be treated as `np.float64 == np.dtype(float).type`.\n",
      "  from ._conv import register_converters as _register_converters\n",
      "Using TensorFlow backend.\n"
     ]
    }
   ],
   "source": [
    "import warnings\n",
    "\n",
    "import numpy as np\n",
    "import pandas as pd\n",
    "\n",
    "pd.options.display.max_rows=500\n",
    "pd.options.display.max_colwidth=2000\n",
    "\n",
    "\n",
    "from sklearn.model_selection import train_test_split\n",
    "from sklearn.metrics import accuracy_score\n",
    "\n",
    "from keras.models import Model\n",
    "from keras.layers import Input, Dense, Embedding, SpatialDropout1D, concatenate\n",
    "from keras.layers import CuDNNGRU, Bidirectional, GlobalAveragePooling1D, GlobalMaxPooling1D, Conv1D\n",
    "from keras.preprocessing import text, sequence\n",
    "from keras.callbacks import EarlyStopping, ModelCheckpoint\n",
    "from keras.optimizers import Adam\n",
    "import matplotlib.pyplot as plt\n",
    "%matplotlib inline\n",
    "\n",
    "warnings.filterwarnings('ignore')\n",
    "np.random.seed(42)\n",
    "EMBEDDING_FILE = '/media/stas/fastdata/data/cc.ru.300.vec'  # путь к рускому fasttext-у\n",
    "\n",
    "df = pd.read_csv('./data/New_Data_Frame.csv')\n",
    "df.drop_duplicates(inplace=True)\n",
    "X_train, X_test, y_train, y_test = train_test_split(df[\"text\"], df[\"is_gogol\"], stratify = df[\"is_gogol\"], test_size=0.33, random_state=42)"
   ]
  },
  {
   "cell_type": "code",
   "execution_count": 2,
   "metadata": {},
   "outputs": [],
   "source": [
    "max_features = 30000\n",
    "maxlen = 100\n",
    "embed_size = 300\n",
    "# Делаем токенизацию по словам и паддинг\n",
    "tokenizer = text.Tokenizer(num_words=max_features)\n",
    "tokenizer.fit_on_texts(list(X_train) + list(X_test))\n",
    "X_train = tokenizer.texts_to_sequences(X_train)\n",
    "X_test = tokenizer.texts_to_sequences(X_test)\n",
    "x_train = sequence.pad_sequences(X_train, maxlen=maxlen)\n",
    "x_test = sequence.pad_sequences(X_test, maxlen=maxlen)"
   ]
  },
  {
   "cell_type": "code",
   "execution_count": 3,
   "metadata": {},
   "outputs": [],
   "source": [
    "def get_coefs(word, *arr): return word, np.asarray(arr, dtype='float32')\n",
    "\n",
    "\n",
    "# Делаем поготовку для embedding слоя\n",
    "embeddings_index_crawl = dict(get_coefs(*o.rstrip().rsplit(' ')) for o in open(EMBEDDING_FILE))\n",
    "word_index = tokenizer.word_index\n",
    "nb_words = min(max_features, len(word_index))\n",
    "embedding_matrix = np.zeros((nb_words, embed_size))\n",
    "\n",
    "for word, i in word_index.items():\n",
    "    if i >= max_features: continue\n",
    "    embedding_vector = embeddings_index_crawl.get(word)\n",
    "    if embedding_vector is not None: embedding_matrix[i] = embedding_vector"
   ]
  },
  {
   "cell_type": "code",
   "execution_count": 4,
   "metadata": {},
   "outputs": [],
   "source": [
    "def get_model():\n",
    "    sequence_input = Input(shape=(maxlen, ))\n",
    "    x = Embedding(max_features, embed_size, weights=[embedding_matrix], trainable = False)(sequence_input)\n",
    "    x = SpatialDropout1D(0.2)(x)\n",
    "    \n",
    "    x = Bidirectional(CuDNNGRU(128, return_sequences=True))(x)\n",
    "    x = Bidirectional(CuDNNGRU(128, return_sequences=True))(x)\n",
    "\n",
    "    x1 = Conv1D(128, kernel_size = 3, padding = \"valid\", kernel_initializer = \"glorot_uniform\")(x)\n",
    "    x1 = Conv1D(128, kernel_size = 3, padding = \"valid\", kernel_initializer = \"glorot_uniform\")(x1)\n",
    "    \n",
    "    avg_pool_gru  = GlobalAveragePooling1D()(x)\n",
    "    max_pool_gru  = GlobalMaxPooling1D()(x)\n",
    "    avg_pool_conv = GlobalAveragePooling1D()(x1)\n",
    "    max_pool_conv = GlobalMaxPooling1D()(x1)\n",
    "    \n",
    "    x = concatenate([avg_pool_gru, max_pool_gru, avg_pool_conv, max_pool_conv]) \n",
    "    x = Dense(256, activation=\"relu\", kernel_initializer = \"glorot_uniform\")(x)\n",
    "    x = Dense(256, activation=\"relu\", kernel_initializer = \"glorot_uniform\")(x)\n",
    "    \n",
    "    preds = Dense(1, activation=\"sigmoid\")(x)\n",
    "    model = Model(sequence_input, preds)\n",
    "    model.compile(loss='binary_crossentropy', optimizer=Adam(lr=5e-4), metrics=['accuracy'])\n",
    "    return model\n",
    "\n",
    "model = get_model()"
   ]
  },
  {
   "cell_type": "code",
   "execution_count": 5,
   "metadata": {
    "scrolled": true
   },
   "outputs": [
    {
     "name": "stdout",
     "output_type": "stream",
     "text": [
      "Train on 174308 samples, validate on 43578 samples\n",
      "Epoch 1/30\n",
      "174308/174308 [==============================] - 47s 271us/step - loss: 0.2060 - acc: 0.9139 - val_loss: 0.1439 - val_acc: 0.9424\n",
      "\n",
      "Epoch 00001: val_acc improved from -inf to 0.94238, saving model to ./models/weights_base.best.hdf5\n",
      "Epoch 2/30\n",
      "174308/174308 [==============================] - 46s 264us/step - loss: 0.1451 - acc: 0.9413 - val_loss: 0.1280 - val_acc: 0.9478\n",
      "\n",
      "Epoch 00002: val_acc improved from 0.94238 to 0.94784, saving model to ./models/weights_base.best.hdf5\n",
      "Epoch 3/30\n",
      "174308/174308 [==============================] - 46s 265us/step - loss: 0.1250 - acc: 0.9499 - val_loss: 0.1102 - val_acc: 0.9571\n",
      "\n",
      "Epoch 00003: val_acc improved from 0.94784 to 0.95713, saving model to ./models/weights_base.best.hdf5\n",
      "Epoch 4/30\n",
      "174308/174308 [==============================] - 46s 266us/step - loss: 0.1146 - acc: 0.9541 - val_loss: 0.1083 - val_acc: 0.9573\n",
      "\n",
      "Epoch 00004: val_acc improved from 0.95713 to 0.95729, saving model to ./models/weights_base.best.hdf5\n",
      "Epoch 5/30\n",
      "174308/174308 [==============================] - 46s 266us/step - loss: 0.1043 - acc: 0.9582 - val_loss: 0.0985 - val_acc: 0.9602\n",
      "\n",
      "Epoch 00005: val_acc improved from 0.95729 to 0.96021, saving model to ./models/weights_base.best.hdf5\n",
      "Epoch 6/30\n",
      "174308/174308 [==============================] - 46s 266us/step - loss: 0.0982 - acc: 0.9608 - val_loss: 0.0968 - val_acc: 0.9603\n",
      "\n",
      "Epoch 00006: val_acc improved from 0.96021 to 0.96028, saving model to ./models/weights_base.best.hdf5\n",
      "Epoch 7/30\n",
      "174308/174308 [==============================] - 46s 265us/step - loss: 0.0922 - acc: 0.9636 - val_loss: 0.0954 - val_acc: 0.9625\n",
      "\n",
      "Epoch 00007: val_acc improved from 0.96028 to 0.96253, saving model to ./models/weights_base.best.hdf5\n",
      "Epoch 8/30\n",
      "174308/174308 [==============================] - 46s 266us/step - loss: 0.0860 - acc: 0.9658 - val_loss: 0.0934 - val_acc: 0.9628\n",
      "\n",
      "Epoch 00008: val_acc improved from 0.96253 to 0.96276, saving model to ./models/weights_base.best.hdf5\n",
      "Epoch 9/30\n",
      "174308/174308 [==============================] - 46s 266us/step - loss: 0.0818 - acc: 0.9676 - val_loss: 0.0932 - val_acc: 0.9638\n",
      "\n",
      "Epoch 00009: val_acc improved from 0.96276 to 0.96381, saving model to ./models/weights_base.best.hdf5\n",
      "Epoch 10/30\n",
      "174308/174308 [==============================] - 46s 266us/step - loss: 0.0770 - acc: 0.9695 - val_loss: 0.0940 - val_acc: 0.9634\n",
      "\n",
      "Epoch 00010: val_acc did not improve\n",
      "Epoch 11/30\n",
      "174308/174308 [==============================] - 46s 266us/step - loss: 0.0720 - acc: 0.9712 - val_loss: 0.0918 - val_acc: 0.9633\n",
      "\n",
      "Epoch 00011: val_acc did not improve\n",
      "Epoch 12/30\n",
      "174308/174308 [==============================] - 46s 266us/step - loss: 0.0679 - acc: 0.9728 - val_loss: 0.0929 - val_acc: 0.9633\n",
      "\n",
      "Epoch 00012: val_acc did not improve\n"
     ]
    }
   ],
   "source": [
    "file_path  = \"./models/weights_base.best.hdf5\"\n",
    "checkpoint = ModelCheckpoint(file_path, monitor='val_acc', verbose=1, save_best_only=True, save_weights_only=True, mode='max')\n",
    "\n",
    "early = EarlyStopping(monitor=\"val_acc\", mode=\"max\", patience=3)\n",
    "\n",
    "\n",
    "callbacks_list = [checkpoint, early]\n",
    "\n",
    "hist = model.fit(x_train, y_train, batch_size=256, epochs=30, validation_split=0.2, callbacks=callbacks_list)"
   ]
  },
  {
   "cell_type": "code",
   "execution_count": 6,
   "metadata": {},
   "outputs": [
    {
     "data": {
      "text/plain": [
       "[<matplotlib.lines.Line2D at 0x7fe74e5790f0>]"
      ]
     },
     "execution_count": 6,
     "metadata": {},
     "output_type": "execute_result"
    },
    {
     "data": {
      "image/png": "[encoded data removed]",
      "text/plain": [
       "<matplotlib.figure.Figure at 0x7fe74e5799e8>"
      ]
     },
     "metadata": {},
     "output_type": "display_data"
    }
   ],
   "source": [
    "plt.plot(hist.history[\"val_loss\"])\n",
    "plt.plot(hist.history[\"loss\"])"
   ]
  },
  {
   "cell_type": "code",
   "execution_count": 7,
   "metadata": {},
   "outputs": [
    {
     "data": {
      "text/plain": [
       "[<matplotlib.lines.Line2D at 0x7fe74e579780>]"
      ]
     },
     "execution_count": 7,
     "metadata": {},
     "output_type": "execute_result"
    },
    {
     "data": {
      "image/png": "[encoded data removed]",
      "text/plain": [
       "<matplotlib.figure.Figure at 0x7fe74e579320>"
      ]
     },
     "metadata": {},
     "output_type": "display_data"
    }
   ],
   "source": [
    "plt.plot(hist.history[\"acc\"])\n",
    "plt.plot(hist.history[\"val_acc\"])"
   ]
  },
  {
   "cell_type": "code",
   "execution_count": 6,
   "metadata": {},
   "outputs": [
    {
     "name": "stdout",
     "output_type": "stream",
     "text": [
      "0.9621308832710568\n"
     ]
    }
   ],
   "source": [
    "file_path  = \"./models/weights_base.best.hdf5\"\n",
    "model.load_weights(file_path)\n",
    "pred = model.predict(x_test, batch_size=1028)\n",
    "\n",
    "pred_for_score = pred.copy().squeeze()\n",
    "pred_for_score[pred_for_score >  0.5] = 1\n",
    "pred_for_score[pred_for_score <= 0.5] = 0\n",
    "\n",
    "print(accuracy_score(y_test,pred_for_score))"
   ]
  },
  {
   "cell_type": "code",
   "execution_count": 7,
   "metadata": {},
   "outputs": [
    {
     "data": {
      "text/html": [
       "<div>\n",
       "<style scoped>\n",
       "    .dataframe tbody tr th:only-of-type {\n",
       "        vertical-align: middle;\n",
       "    }\n",
       "\n",
       "    .dataframe tbody tr th {\n",
       "        vertical-align: top;\n",
       "    }\n",
       "\n",
       "    .dataframe thead th {\n",
       "        text-align: right;\n",
       "    }\n",
       "</style>\n",
       "<table border=\"1\" class=\"dataframe\">\n",
       "  <thead>\n",
       "    <tr style=\"text-align: right;\">\n",
       "      <th></th>\n",
       "      <th>text</th>\n",
       "      <th>pred</th>\n",
       "    </tr>\n",
       "  </thead>\n",
       "  <tbody>\n",
       "    <tr>\n",
       "      <th>339141</th>\n",
       "      <td>* И тогда она начинает длинно рассказывать, как погибли ее отец и семь братьев, убитые Ахиллом, и о пленении, выкупе и смерти матери.</td>\n",
       "      <td>0.000010</td>\n",
       "    </tr>\n",
       "    <tr>\n",
       "      <th>171067</th>\n",
       "      <td>Гов орили  с ним о Малорос сийской  Истории, и проч.</td>\n",
       "      <td>0.000054</td>\n",
       "    </tr>\n",
       "    <tr>\n",
       "      <th>71698</th>\n",
       "      <td>Не позабывай по ней панихид.</td>\n",
       "      <td>0.000064</td>\n",
       "    </tr>\n",
       "    <tr>\n",
       "      <th>185192</th>\n",
       "      <td>\"...сидит на колу у турецкого султана, а Кузубия гуляет с рыбами на дне Сиваша\" -- упоминание о сражении под Перекопом в 1620 г., во время войны с турками.</td>\n",
       "      <td>0.000149</td>\n",
       "    </tr>\n",
       "    <tr>\n",
       "      <th>206031</th>\n",
       "      <td>Пророки вообще много говорят об обширной торговле в Вавилоне, но они же рисуют ужасающую картину господствовавшей там безнравственности.</td>\n",
       "      <td>0.000169</td>\n",
       "    </tr>\n",
       "    <tr>\n",
       "      <th>140799</th>\n",
       "      <td>Филонов был одно время совершенный атеист, libre penseur.</td>\n",
       "      <td>0.000292</td>\n",
       "    </tr>\n",
       "    <tr>\n",
       "      <th>256133</th>\n",
       "      <td>которого мы теперь не касаемся.</td>\n",
       "      <td>0.000318</td>\n",
       "    </tr>\n",
       "    <tr>\n",
       "      <th>311157</th>\n",
       "      <td>На эту сторону дела впервые указал именно Гегель.</td>\n",
       "      <td>0.000318</td>\n",
       "    </tr>\n",
       "    <tr>\n",
       "      <th>99283</th>\n",
       "      <td>А доказательство в наше время.</td>\n",
       "      <td>0.000366</td>\n",
       "    </tr>\n",
       "    <tr>\n",
       "      <th>254787</th>\n",
       "      <td>Примечание 4 Непостижимость начала .</td>\n",
       "      <td>0.000405</td>\n",
       "    </tr>\n",
       "    <tr>\n",
       "      <th>23557</th>\n",
       "      <td>Автор должен признаться, что весьма завидуег аппетиту и желудку такого рода людей.</td>\n",
       "      <td>0.000518</td>\n",
       "    </tr>\n",
       "    <tr>\n",
       "      <th>149419</th>\n",
       "      <td>Фонвизина, Неудачный примиритель Княжнина, Лукавин Писарева и Береговое право соч.</td>\n",
       "      <td>0.000520</td>\n",
       "    </tr>\n",
       "    <tr>\n",
       "      <th>211477</th>\n",
       "      <td>Двадцать таких, как ты, я поверг бы наземь своим копьем; однако гибельный рок и Аполлон меня убивают, вторым .</td>\n",
       "      <td>0.000554</td>\n",
       "    </tr>\n",
       "    <tr>\n",
       "      <th>36436</th>\n",
       "      <td>Дома здесь устроены очень хорошо, с комфортами, с печами и в аглицком совершенно вкусе.</td>\n",
       "      <td>0.000563</td>\n",
       "    </tr>\n",
       "    <tr>\n",
       "      <th>171251</th>\n",
       "      <td>: Современник.</td>\n",
       "      <td>0.000628</td>\n",
       "    </tr>\n",
       "    <tr>\n",
       "      <th>359812</th>\n",
       "      <td>замечание Энгельса о том, что Гегель в ряде своих .</td>\n",
       "      <td>0.000693</td>\n",
       "    </tr>\n",
       "    <tr>\n",
       "      <th>363699</th>\n",
       "      <td>Семья Пифагора неизбежно была втянута в эти неприятные перипетии, а такое состояние гражданской войны было не по душе Пифагору, который уже больше не интересовался политической жизнью и видел в ней неблагоприятную почву для своих планов.</td>\n",
       "      <td>0.000748</td>\n",
       "    </tr>\n",
       "    <tr>\n",
       "      <th>149368</th>\n",
       "      <td>здесь их совершенно нет.</td>\n",
       "      <td>0.000812</td>\n",
       "    </tr>\n",
       "    <tr>\n",
       "      <th>61716</th>\n",
       "      <td>Адресуй попрежнему...</td>\n",
       "      <td>0.000921</td>\n",
       "    </tr>\n",
       "    <tr>\n",
       "      <th>344382</th>\n",
       "      <td>Мы ищем поэтому его не ради какого- .</td>\n",
       "      <td>0.000960</td>\n",
       "    </tr>\n",
       "    <tr>\n",
       "      <th>141464</th>\n",
       "      <td>Но то было давно.</td>\n",
       "      <td>0.000998</td>\n",
       "    </tr>\n",
       "    <tr>\n",
       "      <th>88806</th>\n",
       "      <td>Он начал защищать то, что прежде разрушал, оправдывать крепостное право и кончил тем, что бросился к ногам представителя \"благоволения и любви\", Его Величества.</td>\n",
       "      <td>0.001169</td>\n",
       "    </tr>\n",
       "    <tr>\n",
       "      <th>19561</th>\n",
       "      <td>Она говорит о материализме так, как понимают его практические люди.</td>\n",
       "      <td>0.001249</td>\n",
       "    </tr>\n",
       "    <tr>\n",
       "      <th>332768</th>\n",
       "      <td>37, 226— 240, May 1928.</td>\n",
       "      <td>0.001281</td>\n",
       "    </tr>\n",
       "    <tr>\n",
       "      <th>270812</th>\n",
       "      <td>Когда спрашивают о каком-либо основании, то желают полу  .</td>\n",
       "      <td>0.001486</td>\n",
       "    </tr>\n",
       "  </tbody>\n",
       "</table>\n",
       "</div>"
      ],
      "text/plain": [
       "                                                                                                                                                                                                                                                 text  \\\n",
       "339141                                                                                                          * И тогда она начинает длинно рассказывать, как погибли ее отец и семь братьев, убитые Ахиллом, и о пленении, выкупе и смерти матери.   \n",
       "171067                                                                                                                                                                                           Гов орили  с ним о Малорос сийской  Истории, и проч.   \n",
       "71698                                                                                                                                                                                                                    Не позабывай по ней панихид.   \n",
       "185192                                                                                    \"...сидит на колу у турецкого султана, а Кузубия гуляет с рыбами на дне Сиваша\" -- упоминание о сражении под Перекопом в 1620 г., во время войны с турками.   \n",
       "206031                                                                                                       Пророки вообще много говорят об обширной торговле в Вавилоне, но они же рисуют ужасающую картину господствовавшей там безнравственности.   \n",
       "140799                                                                                                                                                                                      Филонов был одно время совершенный атеист, libre penseur.   \n",
       "256133                                                                                                                                                                                                                которого мы теперь не касаемся.   \n",
       "311157                                                                                                                                                                                              На эту сторону дела впервые указал именно Гегель.   \n",
       "99283                                                                                                                                                                                                                  А доказательство в наше время.   \n",
       "254787                                                                                                                                                                                                           Примечание 4 Непостижимость начала .   \n",
       "23557                                                                                                                                                              Автор должен признаться, что весьма завидуег аппетиту и желудку такого рода людей.   \n",
       "149419                                                                                                                                                             Фонвизина, Неудачный примиритель Княжнина, Лукавин Писарева и Береговое право соч.   \n",
       "211477                                                                                                                                 Двадцать таких, как ты, я поверг бы наземь своим копьем; однако гибельный рок и Аполлон меня убивают, вторым .   \n",
       "36436                                                                                                                                                         Дома здесь устроены очень хорошо, с комфортами, с печами и в аглицком совершенно вкусе.   \n",
       "171251                                                                                                                                                                                                                                 : Современник.   \n",
       "359812                                                                                                                                                                                            замечание Энгельса о том, что Гегель в ряде своих .   \n",
       "363699  Семья Пифагора неизбежно была втянута в эти неприятные перипетии, а такое состояние гражданской войны было не по душе Пифагору, который уже больше не интересовался политической жизнью и видел в ней неблагоприятную почву для своих планов.   \n",
       "149368                                                                                                                                                                                                                       здесь их совершенно нет.   \n",
       "61716                                                                                                                                                                                                                           Адресуй попрежнему...   \n",
       "344382                                                                                                                                                                                                          Мы ищем поэтому его не ради какого- .   \n",
       "141464                                                                                                                                                                                                                              Но то было давно.   \n",
       "88806                                                                                Он начал защищать то, что прежде разрушал, оправдывать крепостное право и кончил тем, что бросился к ногам представителя \"благоволения и любви\", Его Величества.   \n",
       "19561                                                                                                                                                                             Она говорит о материализме так, как понимают его практические люди.   \n",
       "332768                                                                                                                                                                                                                        37, 226— 240, May 1928.   \n",
       "270812                                                                                                                                                                                     Когда спрашивают о каком-либо основании, то желают полу  .   \n",
       "\n",
       "            pred  \n",
       "339141  0.000010  \n",
       "171067  0.000054  \n",
       "71698   0.000064  \n",
       "185192  0.000149  \n",
       "206031  0.000169  \n",
       "140799  0.000292  \n",
       "256133  0.000318  \n",
       "311157  0.000318  \n",
       "99283   0.000366  \n",
       "254787  0.000405  \n",
       "23557   0.000518  \n",
       "149419  0.000520  \n",
       "211477  0.000554  \n",
       "36436   0.000563  \n",
       "171251  0.000628  \n",
       "359812  0.000693  \n",
       "363699  0.000748  \n",
       "149368  0.000812  \n",
       "61716   0.000921  \n",
       "344382  0.000960  \n",
       "141464  0.000998  \n",
       "88806   0.001169  \n",
       "19561   0.001249  \n",
       "332768  0.001281  \n",
       "270812  0.001486  "
      ]
     },
     "execution_count": 7,
     "metadata": {},
     "output_type": "execute_result"
    }
   ],
   "source": [
    "X_train, X_test, y_train, y_test = train_test_split(df[\"text\"], df[\"is_gogol\"], stratify = df[\"is_gogol\"], test_size=0.33, random_state=42)\n",
    "pred = model.predict(x_test,batch_size=1028)\n",
    "pred -= 0.5\n",
    "pred = np.abs(pred)\n",
    "\n",
    "exporation_df = pd.DataFrame()\n",
    "exporation_df[\"text\"]= X_test\n",
    "exporation_df[\"pred\"]= pred\n",
    "exporation_df.sort_values(\"pred\", inplace=True)\n",
    "exporation_df.head(25)"
   ]
  },
  {
   "cell_type": "code",
   "execution_count": null,
   "metadata": {},
   "outputs": [],
   "source": []
  }
 ],
 "metadata": {
  "kernelspec": {
   "display_name": "Python 3",
   "language": "python",
   "name": "python3"
  },
  "language_info": {
   "codemirror_mode": {
    "name": "ipython",
    "version": 3
   },
   "file_extension": ".py",
   "mimetype": "text/x-python",
   "name": "python",
   "nbconvert_exporter": "python",
   "pygments_lexer": "ipython3",
   "version": "3.6.4"
  }
 },
 "nbformat": 4,
 "nbformat_minor": 2
}
